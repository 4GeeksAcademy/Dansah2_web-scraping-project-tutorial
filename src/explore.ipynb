{
    "cells": [
        {
            "cell_type": "markdown",
            "metadata": {},
            "source": [
                "# Explore here\n",
                "\n",
                "It's recommended to use this notebook for exploration purposes."
            ]
        },
        {
            "cell_type": "code",
            "execution_count": 1,
            "metadata": {},
            "outputs": [],
            "source": [
                "import os\n",
                "from bs4 import BeautifulSoup\n",
                "import requests\n",
                "import time\n",
                "import sqlite3\n",
                "import matplotlib.pyplot as plt\n",
                "import seaborn as sns  \n",
                "import pandas as pd"
            ]
        },
        {
            "cell_type": "code",
            "execution_count": 2,
            "metadata": {},
            "outputs": [],
            "source": [
                "# select the webpage url to scrape data from\n",
                "tesla_url = \"https://companies-market-cap-copy.vercel.app/index.html\""
            ]
        },
        {
            "cell_type": "code",
            "execution_count": 3,
            "metadata": {},
            "outputs": [],
            "source": [
                "# request to download the efile from the internet\n",
                "response = requests.get(tesla_url)"
            ]
        },
        {
            "cell_type": "code",
            "execution_count": 4,
            "metadata": {},
            "outputs": [],
            "source": [
                "# if the request was executed correctly, parse it using BeautifulSoup\n",
                "if response.status_code == 200:\n",
                "    web_content = BeautifulSoup(response.text, 'html.parser')\n",
                "else:\n",
                "    print(f\"Error, the web content was not received, the error code is {response.status_code}\")"
            ]
        },
        {
            "cell_type": "code",
            "execution_count": 5,
            "metadata": {},
            "outputs": [
                {
                    "name": "stdout",
                    "output_type": "stream",
                    "text": [
                        "<table class=\"table\" style=\"width:100%\">\n",
                        "<thead>\n",
                        "<tr>\n",
                        "<th>Year</th>\n",
                        "<th>Revenue</th>\n",
                        "<th>Change</th>\n",
                        "</tr>\n",
                        "</thead>\n",
                        "<tbody>\n",
                        "<tr><td><span class=\"year\">2024</span></td><td>$97.15 B</td><td class=\"percentage-green\">0.39%</td></tr><tr><td><span class=\"year\">2023</span> </td><td>$96.77 B</td><td class=\"percentage-green\">18.8%</td></tr><tr><td><span class=\"year\">2022</span></td><td>$81.46 B</td><td class=\"percentage-green\">51.35%</td></tr><tr><td><span class=\"year\">2021</span></td><td>$53.82 B</td><td class=\"percentage-green\">70.67%</td></tr><tr><td><span class=\"year\">2020</span></td><td>$31.53 B</td><td class=\"percentage-green\">28.31%</td></tr><tr><td><span class=\"year\">2019</span></td><td>$24.57 B</td><td class=\"percentage-green\">14.52%</td></tr><tr><td><span class=\"year\">2018</span></td><td>$21.46 B</td><td class=\"percentage-green\">82.51%</td></tr><tr><td><span class=\"year\">2017</span></td><td>$11.75 B</td><td class=\"percentage-green\">67.98%</td></tr><tr><td><span class=\"year\">2016</span></td><td>$7.00 B</td><td class=\"percentage-green\">73.01%</td></tr><tr><td><span class=\"year\">2015</span></td><td>$4.04 B</td><td class=\"percentage-green\">26.5%</td></tr><tr><td><span class=\"year\">2014</span></td><td>$3.19 B</td><td class=\"percentage-green\">58.85%</td></tr><tr><td><span class=\"year\">2013</span></td><td>$2.01 B</td><td class=\"percentage-green\">387.23%</td></tr><tr><td><span class=\"year\">2012</span></td><td>$0.41 B</td><td class=\"percentage-green\">102.34%</td></tr><tr><td><span class=\"year\">2011</span></td><td>$0.20 B</td><td class=\"percentage-green\">74.95%</td></tr><tr><td><span class=\"year\">2010</span></td><td>$0.11 B</td><td class=\"percentage-green\">4.29%</td></tr><tr><td><span class=\"year\">2009</span> </td><td>$0.11 B</td><td></td></tr> </tbody>\n",
                        "</table>\n"
                    ]
                }
            ],
            "source": [
                "# find the table with the year evolution\n",
                "table = web_content.find(\"table\")\n",
                "print(table)"
            ]
        },
        {
            "cell_type": "code",
            "execution_count": 6,
            "metadata": {},
            "outputs": [
                {
                    "name": "stdout",
                    "output_type": "stream",
                    "text": [
                        "[<tr><td><span class=\"year\">2024</span></td><td>$97.15 B</td><td class=\"percentage-green\">0.39%</td></tr>, <tr><td><span class=\"year\">2023</span> </td><td>$96.77 B</td><td class=\"percentage-green\">18.8%</td></tr>, <tr><td><span class=\"year\">2022</span></td><td>$81.46 B</td><td class=\"percentage-green\">51.35%</td></tr>, <tr><td><span class=\"year\">2021</span></td><td>$53.82 B</td><td class=\"percentage-green\">70.67%</td></tr>, <tr><td><span class=\"year\">2020</span></td><td>$31.53 B</td><td class=\"percentage-green\">28.31%</td></tr>, <tr><td><span class=\"year\">2019</span></td><td>$24.57 B</td><td class=\"percentage-green\">14.52%</td></tr>, <tr><td><span class=\"year\">2018</span></td><td>$21.46 B</td><td class=\"percentage-green\">82.51%</td></tr>, <tr><td><span class=\"year\">2017</span></td><td>$11.75 B</td><td class=\"percentage-green\">67.98%</td></tr>, <tr><td><span class=\"year\">2016</span></td><td>$7.00 B</td><td class=\"percentage-green\">73.01%</td></tr>, <tr><td><span class=\"year\">2015</span></td><td>$4.04 B</td><td class=\"percentage-green\">26.5%</td></tr>, <tr><td><span class=\"year\">2014</span></td><td>$3.19 B</td><td class=\"percentage-green\">58.85%</td></tr>, <tr><td><span class=\"year\">2013</span></td><td>$2.01 B</td><td class=\"percentage-green\">387.23%</td></tr>, <tr><td><span class=\"year\">2012</span></td><td>$0.41 B</td><td class=\"percentage-green\">102.34%</td></tr>, <tr><td><span class=\"year\">2011</span></td><td>$0.20 B</td><td class=\"percentage-green\">74.95%</td></tr>, <tr><td><span class=\"year\">2010</span></td><td>$0.11 B</td><td class=\"percentage-green\">4.29%</td></tr>, <tr><td><span class=\"year\">2009</span> </td><td>$0.11 B</td><td></td></tr>]\n"
                    ]
                }
            ],
            "source": [
                "# obtain all rows of the data skipping the header row\n",
                "rows = table.find_all(\"tr\")[1:]\n",
                "print(rows)"
            ]
        },
        {
            "cell_type": "code",
            "execution_count": 7,
            "metadata": {},
            "outputs": [
                {
                    "name": "stdout",
                    "output_type": "stream",
                    "text": [
                        "[['2024', '$97.15 B', '0.39%'], ['2023', '$96.77 B', '18.8%'], ['2022', '$81.46 B', '51.35%'], ['2021', '$53.82 B', '70.67%'], ['2020', '$31.53 B', '28.31%'], ['2019', '$24.57 B', '14.52%'], ['2018', '$21.46 B', '82.51%'], ['2017', '$11.75 B', '67.98%'], ['2016', '$7.00 B', '73.01%'], ['2015', '$4.04 B', '26.5%'], ['2014', '$3.19 B', '58.85%'], ['2013', '$2.01 B', '387.23%'], ['2012', '$0.41 B', '102.34%'], ['2011', '$0.20 B', '74.95%'], ['2010', '$0.11 B', '4.29%'], ['2009', '$0.11 B', '']]\n"
                    ]
                }
            ],
            "source": [
                "# strip the data from the table\n",
                "data = [[col.text.strip() for col in row.find_all(\"td\")] for row in rows]\n",
                "print(data)"
            ]
        },
        {
            "cell_type": "code",
            "execution_count": 8,
            "metadata": {},
            "outputs": [
                {
                    "name": "stdout",
                    "output_type": "stream",
                    "text": [
                        "    Date   Revenue Percentage_Change\n",
                        "0   2024  $97.15 B             0.39%\n",
                        "1   2023  $96.77 B             18.8%\n",
                        "2   2022  $81.46 B            51.35%\n",
                        "3   2021  $53.82 B            70.67%\n",
                        "4   2020  $31.53 B            28.31%\n",
                        "5   2019  $24.57 B            14.52%\n",
                        "6   2018  $21.46 B            82.51%\n",
                        "7   2017  $11.75 B            67.98%\n",
                        "8   2016   $7.00 B            73.01%\n",
                        "9   2015   $4.04 B             26.5%\n",
                        "10  2014   $3.19 B            58.85%\n",
                        "11  2013   $2.01 B           387.23%\n",
                        "12  2012   $0.41 B           102.34%\n",
                        "13  2011   $0.20 B            74.95%\n",
                        "14  2010   $0.11 B             4.29%\n",
                        "15  2009   $0.11 B                  \n"
                    ]
                }
            ],
            "source": [
                "# store the data in a dataframe\n",
                "data_df = pd.DataFrame(data, columns=[\"Date\", \"Revenue\", \"Percentage_Change\"])\n",
                "print(data_df)"
            ]
        },
        {
            "cell_type": "code",
            "execution_count": 9,
            "metadata": {},
            "outputs": [
                {
                    "name": "stdout",
                    "output_type": "stream",
                    "text": [
                        "    Date  Revenue Percentage_Change\n",
                        "0   2024    97.15             0.39%\n",
                        "1   2023    96.77             18.8%\n",
                        "2   2022    81.46            51.35%\n",
                        "3   2021    53.82            70.67%\n",
                        "4   2020    31.53            28.31%\n",
                        "5   2019    24.57            14.52%\n",
                        "6   2018    21.46            82.51%\n",
                        "7   2017    11.75            67.98%\n",
                        "8   2016     7.00            73.01%\n",
                        "9   2015     4.04             26.5%\n",
                        "10  2014     3.19            58.85%\n",
                        "11  2013     2.01           387.23%\n",
                        "12  2012     0.41           102.34%\n",
                        "13  2011     0.20            74.95%\n",
                        "14  2010     0.11             4.29%\n",
                        "15  2009     0.11                  \n"
                    ]
                }
            ],
            "source": [
                "# remove the '$' and the 'B' from the dataframe\n",
                "data_df['Revenue'] = data_df['Revenue'].str.replace(\"[$B]\", \"\", regex=True).astype(float)\n",
                "print(data_df)"
            ]
        },
        {
            "cell_type": "code",
            "execution_count": 10,
            "metadata": {},
            "outputs": [],
            "source": [
                "# connect to the database\n",
                "connection = sqlite3.connect('\"tesla_revenues.db\"')\n",
                "cursor = connection.cursor()"
            ]
        },
        {
            "cell_type": "code",
            "execution_count": 11,
            "metadata": {},
            "outputs": [
                {
                    "data": {
                        "text/plain": [
                            "<sqlite3.Cursor at 0x756209dbd3c0>"
                        ]
                    },
                    "execution_count": 11,
                    "metadata": {},
                    "output_type": "execute_result"
                }
            ],
            "source": [
                "# Create the revenues table in the database\n",
                "cursor.execute(\"\"\"\n",
                "CREATE TABLE IF NOT EXISTS revenue (\n",
                "    date TEXT,\n",
                "    revenue REAL\n",
                ")\n",
                "\"\"\")"
            ]
        },
        {
            "cell_type": "code",
            "execution_count": 12,
            "metadata": {},
            "outputs": [
                {
                    "ename": "OperationalError",
                    "evalue": "database is locked",
                    "output_type": "error",
                    "traceback": [
                        "\u001b[0;31m---------------------------------------------------------------------------\u001b[0m",
                        "\u001b[0;31mOperationalError\u001b[0m                          Traceback (most recent call last)",
                        "Cell \u001b[0;32mIn[12], line 3\u001b[0m\n\u001b[1;32m      1\u001b[0m \u001b[38;5;66;03m# insert the values from the dataframe into the revenue table\u001b[39;00m\n\u001b[1;32m      2\u001b[0m data_list \u001b[38;5;241m=\u001b[39m data_df[[\u001b[38;5;124m\"\u001b[39m\u001b[38;5;124mDate\u001b[39m\u001b[38;5;124m\"\u001b[39m, \u001b[38;5;124m\"\u001b[39m\u001b[38;5;124mRevenue\u001b[39m\u001b[38;5;124m\"\u001b[39m]]\u001b[38;5;241m.\u001b[39mvalues\u001b[38;5;241m.\u001b[39mtolist()\n\u001b[0;32m----> 3\u001b[0m \u001b[43mcursor\u001b[49m\u001b[38;5;241;43m.\u001b[39;49m\u001b[43mexecutemany\u001b[49m\u001b[43m(\u001b[49m\u001b[38;5;124;43m\"\u001b[39;49m\u001b[38;5;124;43mINSERT INTO revenue (date, revenue) VALUES (?, ?)\u001b[39;49m\u001b[38;5;124;43m\"\u001b[39;49m\u001b[43m,\u001b[49m\u001b[43m \u001b[49m\u001b[43mdata_list\u001b[49m\u001b[43m)\u001b[49m\n",
                        "\u001b[0;31mOperationalError\u001b[0m: database is locked"
                    ]
                }
            ],
            "source": [
                "# insert the values from the dataframe into the revenue table\n",
                "data_list = data_df[[\"Date\", \"Revenue\"]].values.tolist()\n",
                "cursor.executemany(\"INSERT INTO revenue (date, revenue) VALUES (?, ?)\", data_list)"
            ]
        },
        {
            "cell_type": "code",
            "execution_count": null,
            "metadata": {},
            "outputs": [],
            "source": [
                "# store (commit) the changes you have made to the database\n",
                "connection.commit()\n",
                "connection.close()"
            ]
        }
    ],
    "metadata": {
        "kernelspec": {
            "display_name": "Python 3",
            "language": "python",
            "name": "python3"
        },
        "language_info": {
            "codemirror_mode": {
                "name": "ipython",
                "version": 3
            },
            "file_extension": ".py",
            "mimetype": "text/x-python",
            "name": "python",
            "nbconvert_exporter": "python",
            "pygments_lexer": "ipython3",
            "version": "3.11.4"
        },
        "orig_nbformat": 4
    },
    "nbformat": 4,
    "nbformat_minor": 2
}
